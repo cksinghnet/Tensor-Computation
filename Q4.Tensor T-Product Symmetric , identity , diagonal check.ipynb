{
 "cells": [
  {
   "cell_type": "markdown",
   "id": "703e4db2",
   "metadata": {},
   "source": [
    "Let's check whether a given tensor is symmetric or not?"
   ]
  },
  {
   "cell_type": "code",
   "execution_count": 1,
   "id": "3e721bd1",
   "metadata": {},
   "outputs": [],
   "source": [
    "import numpy as np"
   ]
  },
  {
   "cell_type": "code",
   "execution_count": 2,
   "id": "6b89a4f4",
   "metadata": {},
   "outputs": [],
   "source": [
    "def Ttranspose(A):\n",
    "    n,m,p=A.shape\n",
    "    AT=np.zeros((m,n,p),dtype=complex)\n",
    "    AFFT=np.fft.fft(A,axis=2)\n",
    "    for i in range(3):\n",
    "        AT[:,:,i]=AFFT[:,:,i].T\n",
    "    ATT=np.fft.ifft(AT,axis=2).real\n",
    "    return ATT"
   ]
  },
  {
   "cell_type": "code",
   "execution_count": 3,
   "id": "9d02b52f",
   "metadata": {},
   "outputs": [],
   "source": [
    "def tProduct(A,B):\n",
    "    n,m,p=A.shape\n",
    "    m1,n1,p1=B.shape\n",
    "    assert p==p1 & m1==m , \" T-Product Can't done for these two tensor\"\n",
    "    AFFT=np.fft.fft(A,axis=2)\n",
    "    BFFT=np.fft.fft(B,axis=2)\n",
    "    CFFT=np.zeros((n,n1,p),dtype=complex)\n",
    "    for i in range(p):\n",
    "        CFFT[:,:,i]= AFFT[:,:,i] @ BFFT[:,:,i]\n",
    "    C=np.fft.ifft(CFFT,axis=2)\n",
    "    return C.real"
   ]
  },
  {
   "cell_type": "code",
   "execution_count": 5,
   "id": "961843c9",
   "metadata": {},
   "outputs": [],
   "source": [
    "def FindSymmetric(A):\n",
    "    n,m,p=A.shape\n",
    "    assert n==m , \"Can't be symmetric\"\n",
    "    AT=np.zeros((m,n,p),dtype=complex)\n",
    "    AFFT=np.fft.fft(A,axis=2)\n",
    "    for i in range(p):\n",
    "        AT[:,:,i]=AFFT[:,:,i].T\n",
    "    At=np.fft.ifft(AT,axis=2)\n",
    "    if np.array_equal(A,At):\n",
    "        return \"The tensor is Symmetric\"\n",
    "    else:\n",
    "        return \"The tensor is NOT Symmetric\"\n",
    "    \n",
    "    "
   ]
  },
  {
   "cell_type": "code",
   "execution_count": 6,
   "id": "a628c39d",
   "metadata": {},
   "outputs": [
    {
     "data": {
      "text/plain": [
       "'The tensor is NOT Symmetric'"
      ]
     },
     "execution_count": 6,
     "metadata": {},
     "output_type": "execute_result"
    }
   ],
   "source": [
    "A=np.arange(75).reshape(5,5,3)\n",
    "FindSymmetric(A)"
   ]
  },
  {
   "cell_type": "code",
   "execution_count": 7,
   "id": "dfdca0c4",
   "metadata": {},
   "outputs": [
    {
     "data": {
      "text/plain": [
       "'The tensor is Symmetric'"
      ]
     },
     "execution_count": 7,
     "metadata": {},
     "output_type": "execute_result"
    }
   ],
   "source": [
    "A=np.ones(75).reshape(5,5,3)\n",
    "FindSymmetric(A)"
   ]
  },
  {
   "cell_type": "markdown",
   "id": "ee67ee8f",
   "metadata": {},
   "source": [
    "Let's check whether a given tensor is Diagonal or not?"
   ]
  },
  {
   "cell_type": "code",
   "execution_count": 8,
   "id": "97357eb9",
   "metadata": {},
   "outputs": [],
   "source": [
    "def FindDiagonal(D):\n",
    "    n,m,p=I.shape\n",
    "    A=np.arange(n*m*p).reshape(n,m,p)\n",
    "    AD=tProduct(A,D)\n",
    "    DA=tProduct(D,A)\n",
    "    if np.array_equal(AD,DA):\n",
    "        return \"This is a Diagonal matrix\"\n",
    "    else:\n",
    "        return \"This is NOT a Diagonal matrix\"\n",
    "    "
   ]
  },
  {
   "cell_type": "code",
   "execution_count": 54,
   "id": "076dded2",
   "metadata": {},
   "outputs": [],
   "source": [
    "I=np.array([[[1,0,0],[0,0,0],[0,0,0]],[[0,0,0],[3,0,0],[0,0,0]],[[0,0,0],[0,0,0],[4,0,0]]])"
   ]
  },
  {
   "cell_type": "code",
   "execution_count": 55,
   "id": "14a0bfe0",
   "metadata": {},
   "outputs": [
    {
     "data": {
      "text/plain": [
       "array([[[1, 0, 0],\n",
       "        [0, 0, 0],\n",
       "        [0, 0, 0]],\n",
       "\n",
       "       [[0, 0, 0],\n",
       "        [3, 0, 0],\n",
       "        [0, 0, 0]],\n",
       "\n",
       "       [[0, 0, 0],\n",
       "        [0, 0, 0],\n",
       "        [4, 0, 0]]])"
      ]
     },
     "execution_count": 55,
     "metadata": {},
     "output_type": "execute_result"
    }
   ],
   "source": [
    "I"
   ]
  },
  {
   "cell_type": "code",
   "execution_count": 56,
   "id": "a1ed1270",
   "metadata": {},
   "outputs": [
    {
     "data": {
      "text/plain": [
       "'This is NOT a Diagonal matrix'"
      ]
     },
     "execution_count": 56,
     "metadata": {},
     "output_type": "execute_result"
    }
   ],
   "source": [
    "FindDiagonal(I)"
   ]
  },
  {
   "cell_type": "code",
   "execution_count": 47,
   "id": "8ee672c7",
   "metadata": {},
   "outputs": [],
   "source": [
    "I1=np.array([[[1,0,0],[0,1,0],[0,0,1]],[[1,0,0],[0,1,0],[0,0,1]],[[1,0,0],[0,1,0],[0,0,1]]])"
   ]
  },
  {
   "cell_type": "code",
   "execution_count": 48,
   "id": "e6874b6d",
   "metadata": {},
   "outputs": [
    {
     "data": {
      "text/plain": [
       "array([[[1, 0, 0],\n",
       "        [0, 1, 0],\n",
       "        [0, 0, 1]],\n",
       "\n",
       "       [[1, 0, 0],\n",
       "        [0, 1, 0],\n",
       "        [0, 0, 1]],\n",
       "\n",
       "       [[1, 0, 0],\n",
       "        [0, 1, 0],\n",
       "        [0, 0, 1]]])"
      ]
     },
     "execution_count": 48,
     "metadata": {},
     "output_type": "execute_result"
    }
   ],
   "source": [
    "I1"
   ]
  },
  {
   "cell_type": "code",
   "execution_count": 49,
   "id": "b078ac9b",
   "metadata": {},
   "outputs": [
    {
     "data": {
      "text/plain": [
       "'This is NOT a Diagonal matrix'"
      ]
     },
     "execution_count": 49,
     "metadata": {},
     "output_type": "execute_result"
    }
   ],
   "source": [
    "FindDiagonal(I1)"
   ]
  },
  {
   "cell_type": "markdown",
   "id": "a929af6f",
   "metadata": {},
   "source": [
    "Let's check whether a given tensor is Identity or not?"
   ]
  },
  {
   "cell_type": "code",
   "execution_count": 15,
   "id": "839a3c0c",
   "metadata": {},
   "outputs": [],
   "source": [
    "def FindIdentity(I):\n",
    "    n,m,p=I.shape\n",
    "    A=np.arange(n*m*p).reshape(n,m,p)\n",
    "    AI=tProduct(A,I)\n",
    "    IA=tProduct(I,A)\n",
    "    if np.array_equal(AI,A):\n",
    "        return \"This is an Identity matrix\"\n",
    "    else:\n",
    "        return \"This is NOT an Identity matrix\"\n",
    "    "
   ]
  },
  {
   "cell_type": "code",
   "execution_count": 57,
   "id": "a794464a",
   "metadata": {},
   "outputs": [
    {
     "data": {
      "text/plain": [
       "array([[[1, 0, 0],\n",
       "        [0, 1, 0],\n",
       "        [0, 0, 1]],\n",
       "\n",
       "       [[0, 0, 0],\n",
       "        [0, 0, 0],\n",
       "        [0, 0, 0]],\n",
       "\n",
       "       [[0, 0, 0],\n",
       "        [0, 0, 0],\n",
       "        [0, 0, 0]]])"
      ]
     },
     "execution_count": 57,
     "metadata": {},
     "output_type": "execute_result"
    }
   ],
   "source": [
    "I=np.array([[[1,0,0],[0,1,0],[0,0,1]],[[0,0,0],[0,0,0],[0,0,0]],[[0,0,0],[0,0,0],[0,0,0]]])\n",
    "I"
   ]
  },
  {
   "cell_type": "code",
   "execution_count": 58,
   "id": "e5519240",
   "metadata": {},
   "outputs": [
    {
     "data": {
      "text/plain": [
       "'This is NOT an Identity matrix'"
      ]
     },
     "execution_count": 58,
     "metadata": {},
     "output_type": "execute_result"
    }
   ],
   "source": [
    "FindIdentity(I)"
   ]
  },
  {
   "cell_type": "code",
   "execution_count": 64,
   "id": "ba8ae393",
   "metadata": {},
   "outputs": [
    {
     "data": {
      "text/plain": [
       "array([[[1, 0, 0],\n",
       "        [0, 0, 0],\n",
       "        [0, 0, 0]],\n",
       "\n",
       "       [[0, 0, 0],\n",
       "        [1, 0, 0],\n",
       "        [0, 0, 0]],\n",
       "\n",
       "       [[0, 0, 0],\n",
       "        [0, 0, 0],\n",
       "        [1, 0, 0]]])"
      ]
     },
     "execution_count": 64,
     "metadata": {},
     "output_type": "execute_result"
    }
   ],
   "source": [
    "I2=np.array([[[1,0,0],[0,0,0],[0,0,0]],[[0,0,0],[1,0,0],[0,0,0]],[[0,0,0],[0,0,0],[1,0,0]]])\n",
    "I2"
   ]
  },
  {
   "cell_type": "code",
   "execution_count": 60,
   "id": "e11dd828",
   "metadata": {},
   "outputs": [
    {
     "data": {
      "text/plain": [
       "'This is an Identity matrix'"
      ]
     },
     "execution_count": 60,
     "metadata": {},
     "output_type": "execute_result"
    }
   ],
   "source": [
    "FindIdentity(I2)"
   ]
  },
  {
   "cell_type": "code",
   "execution_count": null,
   "id": "7a83bbb6",
   "metadata": {},
   "outputs": [],
   "source": []
  }
 ],
 "metadata": {
  "kernelspec": {
   "display_name": "Python 3 (ipykernel)",
   "language": "python",
   "name": "python3"
  },
  "language_info": {
   "codemirror_mode": {
    "name": "ipython",
    "version": 3
   },
   "file_extension": ".py",
   "mimetype": "text/x-python",
   "name": "python",
   "nbconvert_exporter": "python",
   "pygments_lexer": "ipython3",
   "version": "3.11.4"
  }
 },
 "nbformat": 4,
 "nbformat_minor": 5
}
