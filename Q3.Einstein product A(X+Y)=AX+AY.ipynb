{
 "cells": [
  {
   "cell_type": "code",
   "execution_count": 5,
   "id": "b142973f",
   "metadata": {},
   "outputs": [],
   "source": [
    "import numpy as np"
   ]
  },
  {
   "cell_type": "code",
   "execution_count": 6,
   "id": "74f6e57d",
   "metadata": {},
   "outputs": [],
   "source": [
    "def EstnProduct4ord(A,B):\n",
    "    C=np.zeros(A.shape[0]*A.shape[1]*B.shape[2]*B.shape[3]).reshape(A.shape[0],A.shape[1],B.shape[2],B.shape[3])\n",
    "    for i in range(A.shape[0]):\n",
    "        for j in range(A.shape[1]):\n",
    "            for k in range(B.shape[2]):\n",
    "                for l in range(B.shape[3]):\n",
    "                    for m in range(A.shape[2]):\n",
    "                        for n in range(A.shape[3]):\n",
    "                            C[i,j,k,l]+=A[i,j,m,n]*B[m,n,k,l]\n",
    "    return C\n",
    "    \n",
    "    "
   ]
  },
  {
   "cell_type": "code",
   "execution_count": 7,
   "id": "af52da1c",
   "metadata": {},
   "outputs": [],
   "source": [
    "def TensorAdd(X,Y):\n",
    "    C=np.zeros(X.shape[0]*X.shape[1]*X.shape[2]*X.shape[3]).reshape(X.shape[0],X.shape[1],X.shape[2],X.shape[3])\n",
    "    for i in range(X.shape[0]):\n",
    "        for j in range(X.shape[1]):\n",
    "            for k in range(X.shape[2]):\n",
    "                for l in range(X.shape[3]):\n",
    "                    C[i,j,k,l]=X[i,j,k,l]+Y[i,j,k,l]\n",
    "    return C"
   ]
  },
  {
   "cell_type": "code",
   "execution_count": 8,
   "id": "4a1745cf",
   "metadata": {},
   "outputs": [],
   "source": [
    "A=np.arange(360).reshape(4,5,3,6)\n",
    "X=np.arange(216).reshape(3,6,2,6)\n",
    "Y=np.arange(216).reshape(3,6,2,6)"
   ]
  },
  {
   "cell_type": "code",
   "execution_count": 15,
   "id": "f210482d",
   "metadata": {},
   "outputs": [],
   "source": [
    "LHS=EstnProduct4ord(A,TensorAdd(X,Y))"
   ]
  },
  {
   "cell_type": "code",
   "execution_count": 14,
   "id": "23d23924",
   "metadata": {},
   "outputs": [],
   "source": [
    "RHS=TensorAdd(EstnProduct4ord(A,X),EstnProduct4ord(A,Y))"
   ]
  },
  {
   "cell_type": "code",
   "execution_count": 16,
   "id": "cb90633a",
   "metadata": {},
   "outputs": [
    {
     "data": {
      "text/plain": [
       "True"
      ]
     },
     "execution_count": 16,
     "metadata": {},
     "output_type": "execute_result"
    }
   ],
   "source": [
    "np.array_equal(LHS, RHS)"
   ]
  },
  {
   "cell_type": "code",
   "execution_count": null,
   "id": "68030dfb",
   "metadata": {},
   "outputs": [],
   "source": []
  }
 ],
 "metadata": {
  "kernelspec": {
   "display_name": "Python 3 (ipykernel)",
   "language": "python",
   "name": "python3"
  },
  "language_info": {
   "codemirror_mode": {
    "name": "ipython",
    "version": 3
   },
   "file_extension": ".py",
   "mimetype": "text/x-python",
   "name": "python",
   "nbconvert_exporter": "python",
   "pygments_lexer": "ipython3",
   "version": "3.11.4"
  }
 },
 "nbformat": 4,
 "nbformat_minor": 5
}
