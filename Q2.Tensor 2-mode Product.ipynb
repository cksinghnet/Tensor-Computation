{
 "cells": [
  {
   "cell_type": "code",
   "execution_count": 2,
   "id": "0b6b97c6",
   "metadata": {},
   "outputs": [],
   "source": [
    "import numpy as np"
   ]
  },
  {
   "cell_type": "code",
   "execution_count": 3,
   "id": "c90a3b24",
   "metadata": {},
   "outputs": [],
   "source": [
    "A=np.arange(120).reshape(4,5,6)\n",
    "B=np.arange(15).reshape(3,5)"
   ]
  },
  {
   "cell_type": "code",
   "execution_count": 20,
   "id": "ba608e94",
   "metadata": {},
   "outputs": [],
   "source": [
    "C1=np.zeros(72).reshape(4,3,6)\n",
    "for i in range(4):\n",
    "    for l in range(3):\n",
    "        for k in range(6): \n",
    "            for j in range(5):\n",
    "                C1[i,l,k]+=A[i,j,k]*B[l,j]\n",
    "            "
   ]
  },
  {
   "cell_type": "code",
   "execution_count": 22,
   "id": "f35c09e2",
   "metadata": {},
   "outputs": [
    {
     "data": {
      "text/plain": [
       "array([[[ 180.,  190.,  200.,  210.,  220.,  230.],\n",
       "        [ 480.,  515.,  550.,  585.,  620.,  655.],\n",
       "        [ 780.,  840.,  900.,  960., 1020., 1080.]],\n",
       "\n",
       "       [[ 480.,  490.,  500.,  510.,  520.,  530.],\n",
       "        [1530., 1565., 1600., 1635., 1670., 1705.],\n",
       "        [2580., 2640., 2700., 2760., 2820., 2880.]],\n",
       "\n",
       "       [[ 780.,  790.,  800.,  810.,  820.,  830.],\n",
       "        [2580., 2615., 2650., 2685., 2720., 2755.],\n",
       "        [4380., 4440., 4500., 4560., 4620., 4680.]],\n",
       "\n",
       "       [[1080., 1090., 1100., 1110., 1120., 1130.],\n",
       "        [3630., 3665., 3700., 3735., 3770., 3805.],\n",
       "        [6180., 6240., 6300., 6360., 6420., 6480.]]])"
      ]
     },
     "execution_count": 22,
     "metadata": {},
     "output_type": "execute_result"
    }
   ],
   "source": [
    "C1"
   ]
  },
  {
   "cell_type": "markdown",
   "id": "e7209a0c",
   "metadata": {},
   "source": [
    "# Let's create a function also "
   ]
  },
  {
   "cell_type": "code",
   "execution_count": 35,
   "id": "9bf2fb0b",
   "metadata": {},
   "outputs": [],
   "source": [
    "def mode2Product(A,B):\n",
    "    C=np.zeros(A.shape[0]*B.shape[0]*A.shape[2]).reshape(A.shape[0],B.shape[0],A.shape[2])\n",
    "    for i in range(A.shape[0]):\n",
    "        for j in range(B.shape[0]):\n",
    "            for k in range(A.shape[2]):\n",
    "                for l in range(A.shape[1]):\n",
    "                    C[i,j,k]+=A[i,l,k]*B[j,l]\n",
    "    return C"
   ]
  },
  {
   "cell_type": "code",
   "execution_count": 36,
   "id": "36395dd3",
   "metadata": {},
   "outputs": [
    {
     "data": {
      "text/plain": [
       "array([[[ 180.,  190.,  200.,  210.,  220.,  230.],\n",
       "        [ 480.,  515.,  550.,  585.,  620.,  655.],\n",
       "        [ 780.,  840.,  900.,  960., 1020., 1080.]],\n",
       "\n",
       "       [[ 480.,  490.,  500.,  510.,  520.,  530.],\n",
       "        [1530., 1565., 1600., 1635., 1670., 1705.],\n",
       "        [2580., 2640., 2700., 2760., 2820., 2880.]],\n",
       "\n",
       "       [[ 780.,  790.,  800.,  810.,  820.,  830.],\n",
       "        [2580., 2615., 2650., 2685., 2720., 2755.],\n",
       "        [4380., 4440., 4500., 4560., 4620., 4680.]],\n",
       "\n",
       "       [[1080., 1090., 1100., 1110., 1120., 1130.],\n",
       "        [3630., 3665., 3700., 3735., 3770., 3805.],\n",
       "        [6180., 6240., 6300., 6360., 6420., 6480.]]])"
      ]
     },
     "execution_count": 36,
     "metadata": {},
     "output_type": "execute_result"
    }
   ],
   "source": [
    "mode2Product(A,B)"
   ]
  },
  {
   "cell_type": "code",
   "execution_count": null,
   "id": "46eadfcf",
   "metadata": {},
   "outputs": [],
   "source": []
  }
 ],
 "metadata": {
  "kernelspec": {
   "display_name": "Python 3 (ipykernel)",
   "language": "python",
   "name": "python3"
  },
  "language_info": {
   "codemirror_mode": {
    "name": "ipython",
    "version": 3
   },
   "file_extension": ".py",
   "mimetype": "text/x-python",
   "name": "python",
   "nbconvert_exporter": "python",
   "pygments_lexer": "ipython3",
   "version": "3.11.4"
  }
 },
 "nbformat": 4,
 "nbformat_minor": 5
}
