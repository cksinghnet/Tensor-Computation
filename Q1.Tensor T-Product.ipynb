{
 "cells": [
  {
   "cell_type": "code",
   "execution_count": 1,
   "id": "3e721bd1",
   "metadata": {},
   "outputs": [],
   "source": [
    "import numpy as np"
   ]
  },
  {
   "cell_type": "code",
   "execution_count": 80,
   "id": "9d02b52f",
   "metadata": {},
   "outputs": [],
   "source": [
    "def tProduct(A,B,o):\n",
    "    AFFT=np.fft.fft(A,axis=o-1)\n",
    "    BFFT=np.fft.fft(B,axis=o-1)\n",
    "    CFFT=np.zeros((A.shape[0],B.shape[1],o),dtype=complex)\n",
    "    for i in range(o):\n",
    "        CFFT[:,:,i]=np.dot(AFFT[:,:,i],BFFT[:,:,i])\n",
    "    C=np.fft.ifft(CFFT)\n",
    "    return C.real\n",
    "    "
   ]
  },
  {
   "cell_type": "code",
   "execution_count": 81,
   "id": "34444439",
   "metadata": {},
   "outputs": [
    {
     "data": {
      "text/plain": [
       "array([[[ 2662.,  2662.,  2650.],\n",
       "        [ 2860.,  2860.,  2848.],\n",
       "        [ 3058.,  3058.,  3046.],\n",
       "        [ 3256.,  3256.,  3244.],\n",
       "        [ 3454.,  3454.,  3442.],\n",
       "        [ 3652.,  3652.,  3640.]],\n",
       "\n",
       "       [[ 6694.,  6694.,  6682.],\n",
       "        [ 7324.,  7324.,  7312.],\n",
       "        [ 7954.,  7954.,  7942.],\n",
       "        [ 8584.,  8584.,  8572.],\n",
       "        [ 9214.,  9214.,  9202.],\n",
       "        [ 9844.,  9844.,  9832.]],\n",
       "\n",
       "       [[10726., 10726., 10714.],\n",
       "        [11788., 11788., 11776.],\n",
       "        [12850., 12850., 12838.],\n",
       "        [13912., 13912., 13900.],\n",
       "        [14974., 14974., 14962.],\n",
       "        [16036., 16036., 16024.]],\n",
       "\n",
       "       [[14758., 14758., 14746.],\n",
       "        [16252., 16252., 16240.],\n",
       "        [17746., 17746., 17734.],\n",
       "        [19240., 19240., 19228.],\n",
       "        [20734., 20734., 20722.],\n",
       "        [22228., 22228., 22216.]],\n",
       "\n",
       "       [[18790., 18790., 18778.],\n",
       "        [20716., 20716., 20704.],\n",
       "        [22642., 22642., 22630.],\n",
       "        [24568., 24568., 24556.],\n",
       "        [26494., 26494., 26482.],\n",
       "        [28420., 28420., 28408.]]])"
      ]
     },
     "execution_count": 81,
     "metadata": {},
     "output_type": "execute_result"
    }
   ],
   "source": [
    "A=np.arange(60).reshape(5,4,3)\n",
    "B=np.arange(4*6*3).reshape(4,6,3)\n",
    "order=3\n",
    "tProduct(A,B,order)"
   ]
  },
  {
   "cell_type": "code",
   "execution_count": null,
   "id": "076dded2",
   "metadata": {},
   "outputs": [],
   "source": []
  }
 ],
 "metadata": {
  "kernelspec": {
   "display_name": "Python 3 (ipykernel)",
   "language": "python",
   "name": "python3"
  },
  "language_info": {
   "codemirror_mode": {
    "name": "ipython",
    "version": 3
   },
   "file_extension": ".py",
   "mimetype": "text/x-python",
   "name": "python",
   "nbconvert_exporter": "python",
   "pygments_lexer": "ipython3",
   "version": "3.11.4"
  }
 },
 "nbformat": 4,
 "nbformat_minor": 5
}
